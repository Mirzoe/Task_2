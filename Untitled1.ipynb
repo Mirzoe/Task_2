{
 "cells": [
  {
   "cell_type": "code",
   "execution_count": 84,
   "metadata": {},
   "outputs": [],
   "source": [
    "import pandas as pd\n",
    "import matplotlib.pyplot as plt\n",
    "import os\n",
    "import seaborn as sns\n",
    "import numpy as np"
   ]
  },
  {
   "cell_type": "code",
   "execution_count": 5,
   "metadata": {},
   "outputs": [],
   "source": [
    "dir_data = os.listdir()"
   ]
  },
  {
   "cell_type": "code",
   "execution_count": 9,
   "metadata": {},
   "outputs": [],
   "source": [
    "files = []\n",
    "for name in dir_data:\n",
    "    if '.xlsx' in name:\n",
    "        files.append(name)\n",
    "\n"
   ]
  },
  {
   "cell_type": "code",
   "execution_count": 13,
   "metadata": {},
   "outputs": [],
   "source": [
    "xlsx_files = []\n",
    "for file in files:\n",
    "    xlsx_file = pd.read_excel(file, engine=\"openpyxl\")\n",
    "    xlsx_files.append(xlsx_file)\n",
    "    "
   ]
  },
  {
   "cell_type": "code",
   "execution_count": 15,
   "metadata": {},
   "outputs": [],
   "source": [
    "Sales_data = pd.concat(xlsx_files)"
   ]
  },
  {
   "cell_type": "code",
   "execution_count": 150,
   "metadata": {},
   "outputs": [
    {
     "data": {
      "text/plain": [
       "0    Office Supplies\n",
       "1    Office Supplies\n",
       "2    Office Supplies\n",
       "3    Office Supplies\n",
       "4          Furniture\n",
       "Name: category, dtype: object"
      ]
     },
     "execution_count": 150,
     "metadata": {},
     "output_type": "execute_result"
    }
   ],
   "source": [
    "Sales_data.category.head()"
   ]
  },
  {
   "cell_type": "markdown",
   "metadata": {},
   "source": [
    "#### What is the overall sales trend ?"
   ]
  },
  {
   "cell_type": "code",
   "execution_count": 149,
   "metadata": {},
   "outputs": [
    {
     "data": {
      "text/plain": [
       "Index(['order_id', 'order_date', 'ship_date', 'ship_mode', 'customer_name',\n",
       "       'segment', 'state', 'country', 'market', 'region', 'product_id',\n",
       "       'category', 'sub_category', 'product_name', 'sales', 'quantity',\n",
       "       'discount', 'profit', 'shipping_cost', 'order_priority', 'year',\n",
       "       'year-month', 'cal'],\n",
       "      dtype='object')"
      ]
     },
     "execution_count": 149,
     "metadata": {},
     "output_type": "execute_result"
    }
   ],
   "source": [
    "Sales_data.columns"
   ]
  },
  {
   "cell_type": "code",
   "execution_count": 32,
   "metadata": {},
   "outputs": [],
   "source": [
    "Sales_data['year-month'] = Sales_data['order_date'].apply(lambda x: x.to_period('M'))"
   ]
  },
  {
   "cell_type": "code",
   "execution_count": 49,
   "metadata": {},
   "outputs": [],
   "source": [
    "Sales_data_trend = Sales_data.groupby('year-month').sum().sort_values('year-month', ascending = True).reset_index()"
   ]
  },
  {
   "cell_type": "code",
   "execution_count": 50,
   "metadata": {},
   "outputs": [
    {
     "data": {
      "text/html": [
       "<div>\n",
       "<style scoped>\n",
       "    .dataframe tbody tr th:only-of-type {\n",
       "        vertical-align: middle;\n",
       "    }\n",
       "\n",
       "    .dataframe tbody tr th {\n",
       "        vertical-align: top;\n",
       "    }\n",
       "\n",
       "    .dataframe thead th {\n",
       "        text-align: right;\n",
       "    }\n",
       "</style>\n",
       "<table border=\"1\" class=\"dataframe\">\n",
       "  <thead>\n",
       "    <tr style=\"text-align: right;\">\n",
       "      <th></th>\n",
       "      <th>year-month</th>\n",
       "      <th>sales</th>\n",
       "      <th>quantity</th>\n",
       "      <th>discount</th>\n",
       "      <th>profit</th>\n",
       "      <th>shipping_cost</th>\n",
       "      <th>year</th>\n",
       "    </tr>\n",
       "  </thead>\n",
       "  <tbody>\n",
       "    <tr>\n",
       "      <th>0</th>\n",
       "      <td>2011-01</td>\n",
       "      <td>98898.48886</td>\n",
       "      <td>1463</td>\n",
       "      <td>68.758</td>\n",
       "      <td>8321.80096</td>\n",
       "      <td>10544.7880</td>\n",
       "      <td>870763</td>\n",
       "    </tr>\n",
       "    <tr>\n",
       "      <th>1</th>\n",
       "      <td>2011-02</td>\n",
       "      <td>91152.15698</td>\n",
       "      <td>1224</td>\n",
       "      <td>52.252</td>\n",
       "      <td>12417.90698</td>\n",
       "      <td>10681.1630</td>\n",
       "      <td>760158</td>\n",
       "    </tr>\n",
       "    <tr>\n",
       "      <th>2</th>\n",
       "      <td>2011-03</td>\n",
       "      <td>145729.36736</td>\n",
       "      <td>1836</td>\n",
       "      <td>74.212</td>\n",
       "      <td>15303.56826</td>\n",
       "      <td>13096.1855</td>\n",
       "      <td>1083929</td>\n",
       "    </tr>\n",
       "    <tr>\n",
       "      <th>3</th>\n",
       "      <td>2011-04</td>\n",
       "      <td>116915.76418</td>\n",
       "      <td>2020</td>\n",
       "      <td>80.782</td>\n",
       "      <td>12902.32438</td>\n",
       "      <td>12954.5200</td>\n",
       "      <td>1134204</td>\n",
       "    </tr>\n",
       "    <tr>\n",
       "      <th>4</th>\n",
       "      <td>2011-05</td>\n",
       "      <td>146747.83610</td>\n",
       "      <td>2013</td>\n",
       "      <td>82.382</td>\n",
       "      <td>12183.82870</td>\n",
       "      <td>16443.2060</td>\n",
       "      <td>1138226</td>\n",
       "    </tr>\n",
       "  </tbody>\n",
       "</table>\n",
       "</div>"
      ],
      "text/plain": [
       "  year-month         sales  quantity  discount       profit  shipping_cost  \\\n",
       "0    2011-01   98898.48886      1463    68.758   8321.80096     10544.7880   \n",
       "1    2011-02   91152.15698      1224    52.252  12417.90698     10681.1630   \n",
       "2    2011-03  145729.36736      1836    74.212  15303.56826     13096.1855   \n",
       "3    2011-04  116915.76418      2020    80.782  12902.32438     12954.5200   \n",
       "4    2011-05  146747.83610      2013    82.382  12183.82870     16443.2060   \n",
       "\n",
       "      year  \n",
       "0   870763  \n",
       "1   760158  \n",
       "2  1083929  \n",
       "3  1134204  \n",
       "4  1138226  "
      ]
     },
     "execution_count": 50,
     "metadata": {},
     "output_type": "execute_result"
    }
   ],
   "source": [
    "Sales_data_trend.head()"
   ]
  },
  {
   "cell_type": "code",
   "execution_count": 90,
   "metadata": {},
   "outputs": [
    {
     "data": {
      "image/png": "[encoded data removed]",
      "text/plain": [
       "<Figure size 1080x432 with 1 Axes>"
      ]
     },
     "metadata": {
      "needs_background": "light"
     },
     "output_type": "display_data"
    }
   ],
   "source": [
    "names = []\n",
    "for x in Sales_data_trend['year-month']:\n",
    "    names.append(str(x))\n",
    "\n",
    "x = Sales_data_trend.index\n",
    "y = Sales_data_trend['sales']\n",
    "a, b = np.polyfit(x, y, 1 )\n",
    "x2 = np.array(x)\n",
    "y2 = a * x2 + b\n",
    "plt.figure(figsize= (15,6))\n",
    "plt.plot(x, y)\n",
    "plt.plot(x2, y2)\n",
    "plt.xticks(ticks = x, labels = names, rotation= 'vertical', size = 10)\n",
    "plt.xlabel('Dates')\n",
    "plt.ylabel('Sales in $')\n",
    "plt.title('Sales trend')\n",
    "plt.show()"
   ]
  },
  {
   "cell_type": "markdown",
   "metadata": {},
   "source": [
    "### What are the top 10 products by sales ?"
   ]
  },
  {
   "cell_type": "code",
   "execution_count": 99,
   "metadata": {},
   "outputs": [],
   "source": [
    "Sales_top = Sales_data.groupby('product_name').sum().sort_values('sales', ascending = False).reset_index()"
   ]
  },
  {
   "cell_type": "code",
   "execution_count": 100,
   "metadata": {},
   "outputs": [
    {
     "data": {
      "text/html": [
       "<div>\n",
       "<style scoped>\n",
       "    .dataframe tbody tr th:only-of-type {\n",
       "        vertical-align: middle;\n",
       "    }\n",
       "\n",
       "    .dataframe tbody tr th {\n",
       "        vertical-align: top;\n",
       "    }\n",
       "\n",
       "    .dataframe thead th {\n",
       "        text-align: right;\n",
       "    }\n",
       "</style>\n",
       "<table border=\"1\" class=\"dataframe\">\n",
       "  <thead>\n",
       "    <tr style=\"text-align: right;\">\n",
       "      <th></th>\n",
       "      <th>product_name</th>\n",
       "      <th>sales</th>\n",
       "      <th>quantity</th>\n",
       "      <th>discount</th>\n",
       "      <th>profit</th>\n",
       "      <th>shipping_cost</th>\n",
       "      <th>year</th>\n",
       "    </tr>\n",
       "  </thead>\n",
       "  <tbody>\n",
       "    <tr>\n",
       "      <th>0</th>\n",
       "      <td>Apple Smart Phone, Full Size</td>\n",
       "      <td>86935.7786</td>\n",
       "      <td>171</td>\n",
       "      <td>5.44</td>\n",
       "      <td>5921.5786</td>\n",
       "      <td>8027.71500</td>\n",
       "      <td>102654</td>\n",
       "    </tr>\n",
       "    <tr>\n",
       "      <th>1</th>\n",
       "      <td>Cisco Smart Phone, Full Size</td>\n",
       "      <td>76441.5306</td>\n",
       "      <td>139</td>\n",
       "      <td>2.07</td>\n",
       "      <td>17238.5206</td>\n",
       "      <td>7065.16600</td>\n",
       "      <td>76495</td>\n",
       "    </tr>\n",
       "    <tr>\n",
       "      <th>2</th>\n",
       "      <td>Motorola Smart Phone, Full Size</td>\n",
       "      <td>73156.3030</td>\n",
       "      <td>134</td>\n",
       "      <td>5.61</td>\n",
       "      <td>17027.1130</td>\n",
       "      <td>8817.33100</td>\n",
       "      <td>76498</td>\n",
       "    </tr>\n",
       "    <tr>\n",
       "      <th>3</th>\n",
       "      <td>Nokia Smart Phone, Full Size</td>\n",
       "      <td>71904.5555</td>\n",
       "      <td>147</td>\n",
       "      <td>6.79</td>\n",
       "      <td>9938.1955</td>\n",
       "      <td>7852.66300</td>\n",
       "      <td>94594</td>\n",
       "    </tr>\n",
       "    <tr>\n",
       "      <th>4</th>\n",
       "      <td>Canon imageCLASS 2200 Advanced Copier</td>\n",
       "      <td>61599.8240</td>\n",
       "      <td>20</td>\n",
       "      <td>0.60</td>\n",
       "      <td>25199.9280</td>\n",
       "      <td>1276.32054</td>\n",
       "      <td>10068</td>\n",
       "    </tr>\n",
       "    <tr>\n",
       "      <th>5</th>\n",
       "      <td>Hon Executive Leather Armchair, Adjustable</td>\n",
       "      <td>58193.4841</td>\n",
       "      <td>169</td>\n",
       "      <td>8.11</td>\n",
       "      <td>5997.2541</td>\n",
       "      <td>5751.54100</td>\n",
       "      <td>98638</td>\n",
       "    </tr>\n",
       "    <tr>\n",
       "      <th>6</th>\n",
       "      <td>Office Star Executive Leather Armchair, Adjust...</td>\n",
       "      <td>50661.6840</td>\n",
       "      <td>141</td>\n",
       "      <td>6.47</td>\n",
       "      <td>4710.9840</td>\n",
       "      <td>5141.73400</td>\n",
       "      <td>90577</td>\n",
       "    </tr>\n",
       "    <tr>\n",
       "      <th>7</th>\n",
       "      <td>Harbour Creations Executive Leather Armchair, ...</td>\n",
       "      <td>50121.5160</td>\n",
       "      <td>142</td>\n",
       "      <td>6.98</td>\n",
       "      <td>10427.3260</td>\n",
       "      <td>6548.16500</td>\n",
       "      <td>78499</td>\n",
       "    </tr>\n",
       "    <tr>\n",
       "      <th>8</th>\n",
       "      <td>Samsung Smart Phone, Cordless</td>\n",
       "      <td>48653.4600</td>\n",
       "      <td>108</td>\n",
       "      <td>3.26</td>\n",
       "      <td>-198.0900</td>\n",
       "      <td>5892.07400</td>\n",
       "      <td>52319</td>\n",
       "    </tr>\n",
       "    <tr>\n",
       "      <th>9</th>\n",
       "      <td>Nokia Smart Phone, with Caller ID</td>\n",
       "      <td>47877.7857</td>\n",
       "      <td>96</td>\n",
       "      <td>3.54</td>\n",
       "      <td>9465.3257</td>\n",
       "      <td>5321.11000</td>\n",
       "      <td>48301</td>\n",
       "    </tr>\n",
       "  </tbody>\n",
       "</table>\n",
       "</div>"
      ],
      "text/plain": [
       "                                        product_name       sales  quantity  \\\n",
       "0                       Apple Smart Phone, Full Size  86935.7786       171   \n",
       "1                       Cisco Smart Phone, Full Size  76441.5306       139   \n",
       "2                    Motorola Smart Phone, Full Size  73156.3030       134   \n",
       "3                       Nokia Smart Phone, Full Size  71904.5555       147   \n",
       "4              Canon imageCLASS 2200 Advanced Copier  61599.8240        20   \n",
       "5         Hon Executive Leather Armchair, Adjustable  58193.4841       169   \n",
       "6  Office Star Executive Leather Armchair, Adjust...  50661.6840       141   \n",
       "7  Harbour Creations Executive Leather Armchair, ...  50121.5160       142   \n",
       "8                      Samsung Smart Phone, Cordless  48653.4600       108   \n",
       "9                  Nokia Smart Phone, with Caller ID  47877.7857        96   \n",
       "\n",
       "   discount      profit  shipping_cost    year  \n",
       "0      5.44   5921.5786     8027.71500  102654  \n",
       "1      2.07  17238.5206     7065.16600   76495  \n",
       "2      5.61  17027.1130     8817.33100   76498  \n",
       "3      6.79   9938.1955     7852.66300   94594  \n",
       "4      0.60  25199.9280     1276.32054   10068  \n",
       "5      8.11   5997.2541     5751.54100   98638  \n",
       "6      6.47   4710.9840     5141.73400   90577  \n",
       "7      6.98  10427.3260     6548.16500   78499  \n",
       "8      3.26   -198.0900     5892.07400   52319  \n",
       "9      3.54   9465.3257     5321.11000   48301  "
      ]
     },
     "execution_count": 100,
     "metadata": {},
     "output_type": "execute_result"
    }
   ],
   "source": [
    "Sales_top_10 = Sales_top.head(10)\n",
    "Sales_top_10"
   ]
  },
  {
   "cell_type": "code",
   "execution_count": 108,
   "metadata": {},
   "outputs": [
    {
     "data": {
      "text/plain": [
       "['Apple Smart Phone, Full Size #1',\n",
       " 'Cisco Smart Phone, Full Size #2',\n",
       " 'Motorola Smart Phone, Full Size #3',\n",
       " 'Nokia Smart Phone, Full Size #4',\n",
       " 'Canon imageCLASS 2200 Advanced Copier #5',\n",
       " 'Hon Executive Leather Armchair, Adjustable #6',\n",
       " 'Office Star Executive Leather Armchair, Adjustable #7',\n",
       " 'Harbour Creations Executive Leather Armchair, Adjustable #8',\n",
       " 'Samsung Smart Phone, Cordless #9',\n",
       " 'Nokia Smart Phone, with Caller ID #10']"
      ]
     },
     "execution_count": 108,
     "metadata": {},
     "output_type": "execute_result"
    }
   ],
   "source": [
    "Top_10 = []\n",
    "count = 0\n",
    "for product in Sales_top_10['product_name']:\n",
    "    count +=1\n",
    "    Top_10.append(product + ' #' + str(count))\n",
    "Top_10    "
   ]
  },
  {
   "cell_type": "markdown",
   "metadata": {},
   "source": [
    "### What are the most selling products ?"
   ]
  },
  {
   "cell_type": "code",
   "execution_count": 114,
   "metadata": {},
   "outputs": [],
   "source": [
    "Sales_most = pd.DataFrame(Sales_data.groupby('product_name').sum().sort_values('quantity', ascending= False)['quantity'])"
   ]
  },
  {
   "cell_type": "code",
   "execution_count": 115,
   "metadata": {},
   "outputs": [
    {
     "data": {
      "text/html": [
       "<div>\n",
       "<style scoped>\n",
       "    .dataframe tbody tr th:only-of-type {\n",
       "        vertical-align: middle;\n",
       "    }\n",
       "\n",
       "    .dataframe tbody tr th {\n",
       "        vertical-align: top;\n",
       "    }\n",
       "\n",
       "    .dataframe thead th {\n",
       "        text-align: right;\n",
       "    }\n",
       "</style>\n",
       "<table border=\"1\" class=\"dataframe\">\n",
       "  <thead>\n",
       "    <tr style=\"text-align: right;\">\n",
       "      <th></th>\n",
       "      <th>quantity</th>\n",
       "    </tr>\n",
       "    <tr>\n",
       "      <th>product_name</th>\n",
       "      <th></th>\n",
       "    </tr>\n",
       "  </thead>\n",
       "  <tbody>\n",
       "    <tr>\n",
       "      <th>Staples</th>\n",
       "      <td>876</td>\n",
       "    </tr>\n",
       "    <tr>\n",
       "      <th>Cardinal Index Tab, Clear</th>\n",
       "      <td>337</td>\n",
       "    </tr>\n",
       "    <tr>\n",
       "      <th>Eldon File Cart, Single Width</th>\n",
       "      <td>321</td>\n",
       "    </tr>\n",
       "    <tr>\n",
       "      <th>Rogers File Cart, Single Width</th>\n",
       "      <td>262</td>\n",
       "    </tr>\n",
       "    <tr>\n",
       "      <th>Sanford Pencil Sharpener, Water Color</th>\n",
       "      <td>259</td>\n",
       "    </tr>\n",
       "  </tbody>\n",
       "</table>\n",
       "</div>"
      ],
      "text/plain": [
       "                                       quantity\n",
       "product_name                                   \n",
       "Staples                                     876\n",
       "Cardinal Index Tab, Clear                   337\n",
       "Eldon File Cart, Single Width               321\n",
       "Rogers File Cart, Single Width              262\n",
       "Sanford Pencil Sharpener, Water Color       259"
      ]
     },
     "execution_count": 115,
     "metadata": {},
     "output_type": "execute_result"
    }
   ],
   "source": [
    "Sales_most.head()"
   ]
  },
  {
   "cell_type": "markdown",
   "metadata": {},
   "source": [
    "### Which are the most preferred ship mode? \n"
   ]
  },
  {
   "cell_type": "code",
   "execution_count": 141,
   "metadata": {},
   "outputs": [],
   "source": [
    "Sales_data['cal'] = 1\n",
    "Sales_pref_ship = pd.DataFrame(Sales_data.groupby('ship_mode').sum().sort_values('cal', ascending = False)['cal'])"
   ]
  },
  {
   "cell_type": "code",
   "execution_count": 144,
   "metadata": {},
   "outputs": [
    {
     "data": {
      "text/html": [
       "<div>\n",
       "<style scoped>\n",
       "    .dataframe tbody tr th:only-of-type {\n",
       "        vertical-align: middle;\n",
       "    }\n",
       "\n",
       "    .dataframe tbody tr th {\n",
       "        vertical-align: top;\n",
       "    }\n",
       "\n",
       "    .dataframe thead th {\n",
       "        text-align: right;\n",
       "    }\n",
       "</style>\n",
       "<table border=\"1\" class=\"dataframe\">\n",
       "  <thead>\n",
       "    <tr style=\"text-align: right;\">\n",
       "      <th></th>\n",
       "      <th>cal</th>\n",
       "    </tr>\n",
       "    <tr>\n",
       "      <th>ship_mode</th>\n",
       "      <th></th>\n",
       "    </tr>\n",
       "  </thead>\n",
       "  <tbody>\n",
       "    <tr>\n",
       "      <th>Standard Class</th>\n",
       "      <td>30775</td>\n",
       "    </tr>\n",
       "    <tr>\n",
       "      <th>Second Class</th>\n",
       "      <td>10309</td>\n",
       "    </tr>\n",
       "    <tr>\n",
       "      <th>First Class</th>\n",
       "      <td>7505</td>\n",
       "    </tr>\n",
       "    <tr>\n",
       "      <th>Same Day</th>\n",
       "      <td>2701</td>\n",
       "    </tr>\n",
       "  </tbody>\n",
       "</table>\n",
       "</div>"
      ],
      "text/plain": [
       "                  cal\n",
       "ship_mode            \n",
       "Standard Class  30775\n",
       "Second Class    10309\n",
       "First Class      7505\n",
       "Same Day         2701"
      ]
     },
     "execution_count": 144,
     "metadata": {},
     "output_type": "execute_result"
    }
   ],
   "source": [
    "Sales_pref_ship.head()"
   ]
  },
  {
   "cell_type": "code",
   "execution_count": 146,
   "metadata": {},
   "outputs": [
    {
     "name": "stderr",
     "output_type": "stream",
     "text": [
      "c:\\users\\mirco\\appdata\\local\\programs\\python\\python39\\lib\\site-packages\\seaborn\\_decorators.py:36: FutureWarning: Pass the following variable as a keyword arg: x. From version 0.12, the only valid positional argument will be `data`, and passing other arguments without an explicit keyword will result in an error or misinterpretation.\n",
      "  warnings.warn(\n"
     ]
    },
    {
     "data": {
      "text/plain": [
       "<AxesSubplot:xlabel='ship_mode', ylabel='count'>"
      ]
     },
     "execution_count": 146,
     "metadata": {},
     "output_type": "execute_result"
    },
    {
     "data": {
      "image/png": "[encoded data removed]",
      "text/plain": [
       "<Figure size 432x288 with 1 Axes>"
      ]
     },
     "metadata": {
      "needs_background": "light"
     },
     "output_type": "display_data"
    }
   ],
   "source": [
    "sns.countplot(Sales_data['ship_mode'])"
   ]
  },
  {
   "cell_type": "markdown",
   "metadata": {},
   "source": [
    "### Which are the most profitable categorys and sub-categorys ?\n"
   ]
  },
  {
   "cell_type": "code",
   "execution_count": 152,
   "metadata": {},
   "outputs": [],
   "source": [
    "top_cat = Sales_data.groupby('category').sum().sort_values('sales', ascending = False).reset_index()"
   ]
  },
  {
   "cell_type": "code",
   "execution_count": 154,
   "metadata": {},
   "outputs": [
    {
     "data": {
      "text/html": [
       "<div>\n",
       "<style scoped>\n",
       "    .dataframe tbody tr th:only-of-type {\n",
       "        vertical-align: middle;\n",
       "    }\n",
       "\n",
       "    .dataframe tbody tr th {\n",
       "        vertical-align: top;\n",
       "    }\n",
       "\n",
       "    .dataframe thead th {\n",
       "        text-align: right;\n",
       "    }\n",
       "</style>\n",
       "<table border=\"1\" class=\"dataframe\">\n",
       "  <thead>\n",
       "    <tr style=\"text-align: right;\">\n",
       "      <th></th>\n",
       "      <th>category</th>\n",
       "      <th>sales</th>\n",
       "      <th>quantity</th>\n",
       "      <th>discount</th>\n",
       "      <th>profit</th>\n",
       "      <th>shipping_cost</th>\n",
       "      <th>year</th>\n",
       "      <th>cal</th>\n",
       "    </tr>\n",
       "  </thead>\n",
       "  <tbody>\n",
       "    <tr>\n",
       "      <th>0</th>\n",
       "      <td>Technology</td>\n",
       "      <td>4.744557e+06</td>\n",
       "      <td>35176</td>\n",
       "      <td>1372.508</td>\n",
       "      <td>663778.73318</td>\n",
       "      <td>507047.8794</td>\n",
       "      <td>20411498</td>\n",
       "      <td>10141</td>\n",
       "    </tr>\n",
       "    <tr>\n",
       "      <th>1</th>\n",
       "      <td>Furniture</td>\n",
       "      <td>4.110874e+06</td>\n",
       "      <td>34954</td>\n",
       "      <td>1660.030</td>\n",
       "      <td>286782.25380</td>\n",
       "      <td>440319.4790</td>\n",
       "      <td>19878166</td>\n",
       "      <td>9876</td>\n",
       "    </tr>\n",
       "    <tr>\n",
       "      <th>2</th>\n",
       "      <td>Office Supplies</td>\n",
       "      <td>3.787070e+06</td>\n",
       "      <td>108182</td>\n",
       "      <td>4297.190</td>\n",
       "      <td>518473.83430</td>\n",
       "      <td>405448.3450</td>\n",
       "      <td>62945679</td>\n",
       "      <td>31273</td>\n",
       "    </tr>\n",
       "  </tbody>\n",
       "</table>\n",
       "</div>"
      ],
      "text/plain": [
       "          category         sales  quantity  discount        profit  \\\n",
       "0       Technology  4.744557e+06     35176  1372.508  663778.73318   \n",
       "1        Furniture  4.110874e+06     34954  1660.030  286782.25380   \n",
       "2  Office Supplies  3.787070e+06    108182  4297.190  518473.83430   \n",
       "\n",
       "   shipping_cost      year    cal  \n",
       "0    507047.8794  20411498  10141  \n",
       "1    440319.4790  19878166   9876  \n",
       "2    405448.3450  62945679  31273  "
      ]
     },
     "execution_count": 154,
     "metadata": {},
     "output_type": "execute_result"
    }
   ],
   "source": [
    "top_cat.head()"
   ]
  },
  {
   "cell_type": "code",
   "execution_count": 155,
   "metadata": {},
   "outputs": [],
   "source": [
    "top_sub_cat = Sales_data.groupby('sub_category').sum().sort_values('sales', ascending = False).reset_index()"
   ]
  },
  {
   "cell_type": "code",
   "execution_count": 156,
   "metadata": {},
   "outputs": [
    {
     "data": {
      "text/html": [
       "<div>\n",
       "<style scoped>\n",
       "    .dataframe tbody tr th:only-of-type {\n",
       "        vertical-align: middle;\n",
       "    }\n",
       "\n",
       "    .dataframe tbody tr th {\n",
       "        vertical-align: top;\n",
       "    }\n",
       "\n",
       "    .dataframe thead th {\n",
       "        text-align: right;\n",
       "    }\n",
       "</style>\n",
       "<table border=\"1\" class=\"dataframe\">\n",
       "  <thead>\n",
       "    <tr style=\"text-align: right;\">\n",
       "      <th></th>\n",
       "      <th>sub_category</th>\n",
       "      <th>sales</th>\n",
       "      <th>quantity</th>\n",
       "      <th>discount</th>\n",
       "      <th>profit</th>\n",
       "      <th>shipping_cost</th>\n",
       "      <th>year</th>\n",
       "      <th>cal</th>\n",
       "    </tr>\n",
       "  </thead>\n",
       "  <tbody>\n",
       "    <tr>\n",
       "      <th>0</th>\n",
       "      <td>Phones</td>\n",
       "      <td>1.706824e+06</td>\n",
       "      <td>11870</td>\n",
       "      <td>489.610</td>\n",
       "      <td>216717.00580</td>\n",
       "      <td>184902.4920</td>\n",
       "      <td>6756800</td>\n",
       "      <td>3357</td>\n",
       "    </tr>\n",
       "    <tr>\n",
       "      <th>1</th>\n",
       "      <td>Copiers</td>\n",
       "      <td>1.509436e+06</td>\n",
       "      <td>7454</td>\n",
       "      <td>260.418</td>\n",
       "      <td>258567.54818</td>\n",
       "      <td>159496.2049</td>\n",
       "      <td>4474471</td>\n",
       "      <td>2223</td>\n",
       "    </tr>\n",
       "    <tr>\n",
       "      <th>2</th>\n",
       "      <td>Chairs</td>\n",
       "      <td>1.501682e+06</td>\n",
       "      <td>12336</td>\n",
       "      <td>560.120</td>\n",
       "      <td>141973.79750</td>\n",
       "      <td>164229.3520</td>\n",
       "      <td>6911889</td>\n",
       "      <td>3434</td>\n",
       "    </tr>\n",
       "    <tr>\n",
       "      <th>3</th>\n",
       "      <td>Bookcases</td>\n",
       "      <td>1.466572e+06</td>\n",
       "      <td>8310</td>\n",
       "      <td>370.710</td>\n",
       "      <td>161924.41950</td>\n",
       "      <td>155481.9670</td>\n",
       "      <td>4852847</td>\n",
       "      <td>2411</td>\n",
       "    </tr>\n",
       "    <tr>\n",
       "      <th>4</th>\n",
       "      <td>Storage</td>\n",
       "      <td>1.127086e+06</td>\n",
       "      <td>16917</td>\n",
       "      <td>700.490</td>\n",
       "      <td>108461.48980</td>\n",
       "      <td>120546.0320</td>\n",
       "      <td>10182612</td>\n",
       "      <td>5059</td>\n",
       "    </tr>\n",
       "  </tbody>\n",
       "</table>\n",
       "</div>"
      ],
      "text/plain": [
       "  sub_category         sales  quantity  discount        profit  shipping_cost  \\\n",
       "0       Phones  1.706824e+06     11870   489.610  216717.00580    184902.4920   \n",
       "1      Copiers  1.509436e+06      7454   260.418  258567.54818    159496.2049   \n",
       "2       Chairs  1.501682e+06     12336   560.120  141973.79750    164229.3520   \n",
       "3    Bookcases  1.466572e+06      8310   370.710  161924.41950    155481.9670   \n",
       "4      Storage  1.127086e+06     16917   700.490  108461.48980    120546.0320   \n",
       "\n",
       "       year   cal  \n",
       "0   6756800  3357  \n",
       "1   4474471  2223  \n",
       "2   6911889  3434  \n",
       "3   4852847  2411  \n",
       "4  10182612  5059  "
      ]
     },
     "execution_count": 156,
     "metadata": {},
     "output_type": "execute_result"
    }
   ],
   "source": [
    "top_sub_cat.head()"
   ]
  },
  {
   "cell_type": "code",
   "execution_count": null,
   "metadata": {},
   "outputs": [],
   "source": []
  }
 ],
 "metadata": {
  "kernelspec": {
   "display_name": "Python 3",
   "language": "python",
   "name": "python3"
  },
  "language_info": {
   "codemirror_mode": {
    "name": "ipython",
    "version": 3
   },
   "file_extension": ".py",
   "mimetype": "text/x-python",
   "name": "python",
   "nbconvert_exporter": "python",
   "pygments_lexer": "ipython3",
   "version": "3.9.0"
  }
 },
 "nbformat": 4,
 "nbformat_minor": 4
}
